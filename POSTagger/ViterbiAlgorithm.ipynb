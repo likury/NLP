{
 "cells": [
  {
   "cell_type": "code",
   "execution_count": 262,
   "id": "6ae0fc23",
   "metadata": {},
   "outputs": [],
   "source": [
    "import re\n",
    "import numpy as np\n",
    "myfile = open(\"macmorpho-train.txt\", \"r\")\n",
    "line = myfile.readline() "
   ]
  },
  {
   "cell_type": "code",
   "execution_count": 263,
   "id": "f9af5fb4",
   "metadata": {},
   "outputs": [],
   "source": [
    "filename = \"macmorpho-train.txt\""
   ]
  },
  {
   "cell_type": "code",
   "execution_count": 264,
   "id": "313e7d7d",
   "metadata": {},
   "outputs": [],
   "source": [
    "tags = {}\n",
    "vocab = {}\n",
    "j = 0\n",
    "tags['<S>'] = 0\n",
    "i = 1 \n",
    "\n",
    "\n",
    "with open(filename, \"r\", encoding = \"utf-8\") as file:\n",
    "    for line in file:\n",
    "        strippedLine = line.strip()\n",
    "        preLine = \"<S> \" + strippedLine + \" <E>\"\n",
    "        for w in preLine.split():\n",
    "            matches = re.findall(r'_[^_]+$', w)\n",
    "            \n",
    "            for match in matches:\n",
    "                prepW = w.replace(match, \"\")\n",
    "                \n",
    "                if(prepW not in vocab):\n",
    "                    vocab[prepW] = j\n",
    "                    j+= 1\n",
    "                \n",
    "                if(match not in tags):\n",
    "                    tags[match] = i\n",
    "                    i += 1\n",
    "                previous = match\n",
    "\n",
    "A = np.zeros((len(tags), len(tags)))\n",
    "B = np.zeros((len(tags), len(vocab)))\n",
    "\n",
    "\n",
    "with open(filename, \"r\", encoding = \"utf-8\") as file:\n",
    "    for line in file:\n",
    "        strippedLine = line.strip()\n",
    "        preLine = \"<S> \" + strippedLine + \" <E>\"       \n",
    "        previous = \"<S>\"\n",
    "        for w in preLine.split():\n",
    "            matches = re.findall(r'_[^_]+$', w)\n",
    "            for match in matches:\n",
    "                prepW = w.replace(match, \"\")\n",
    "                previousIndex = tags[previous]\n",
    "                currentIndex = tags[match]\n",
    "                wordIndex = vocab[prepW]\n",
    "                \n",
    "                A[previousIndex][currentIndex] += 1\n",
    "                B[currentIndex][wordIndex] += 1\n",
    "                \n",
    "                previous = match"
   ]
  },
  {
   "cell_type": "code",
   "execution_count": 265,
   "id": "2e503b9a",
   "metadata": {},
   "outputs": [],
   "source": [
    "B_prob = np.zeros((len(tags), len(vocab)))\n",
    "\n",
    "for tag in tags:\n",
    "    appNumberTag = np.sum(B[tags[tag]])\n",
    "    for word in vocab:\n",
    "        appNumberWord = B[tags[tag]][vocab[word]]\n",
    "        if(appNumberTag == 0):\n",
    "            B_prob[tags[tag]][vocab[word]] = 0\n",
    "        else:\n",
    "            B_prob[tags[tag]][vocab[word]] = (appNumberWord)/(appNumberTag) "
   ]
  },
  {
   "cell_type": "code",
   "execution_count": 266,
   "id": "7fa8ac44",
   "metadata": {},
   "outputs": [],
   "source": [
    "A_prob = np.zeros((len(tags), len(tags)))\n",
    "numberOfStarts = np.sum(A[tags['<S>']])\n",
    "\n",
    "for tag in tags:\n",
    "    appNumberAfter = A[tags['<S>']][tags[tag]]\n",
    "    A_prob[tags['<S>']][tags[tag]] = appNumberAfter/numberOfStarts\n",
    "\n",
    "for tagBefore in tags:\n",
    "    if(tagBefore == '<S>'):\n",
    "        continue\n",
    "    appNumberTag = np.sum(B[tags[tagBefore]])\n",
    "    for tagAfter in tags:\n",
    "        if(tagAfter != '<S>'):\n",
    "            appNumberAfter = A[tags[tagBefore]][tags[tagAfter]]\n",
    "            A_prob[tags[tagBefore]][tags[tagAfter]] = appNumberAfter/appNumberTag\n",
    "            "
   ]
  },
  {
   "cell_type": "code",
   "execution_count": 277,
   "id": "2baa57eb",
   "metadata": {},
   "outputs": [],
   "source": [
    "tagLess = tags.copy()\n",
    "tagLess.pop(\"<S>\")\n",
    "sentence = \"Estudar linguagem é muito interessante\"\n",
    "sentenceList = sentence.split()\n",
    "viterbi = np.zeros((len(tags), len(sentenceList)))\n",
    "backpointer = np.zeros((len(tags), len(sentenceList)))"
   ]
  },
  {
   "cell_type": "code",
   "execution_count": 278,
   "id": "cff1ba0e",
   "metadata": {},
   "outputs": [],
   "source": [
    "for tag in tagLess:\n",
    "    tagIndex = tagLess[tag]\n",
    "    viterbi[tagIndex][0] = A_prob[tags['<S>']][tagLess[tag]]*B[tags[tag]][vocab[sentenceList[0]]]\n",
    "    backpointer[tagIndex][0] = 0\n",
    "    \n",
    "for t in range(1, len(sentenceList)):\n",
    "    word = sentenceList[t]\n",
    "    \n",
    "    for tag in tagLess:\n",
    "        viterbi[tagLess[tag]][t] = ((viterbi[:,t-1]*A_prob[:,tags[tag]]).max())*B_prob[tags[tag]][vocab[word]]\n",
    "        backpointer[tags[tag]][t] = (viterbi[:,t-1]*A_prob[:,tags[tag]]).argmax()\n",
    "    \n",
    "bestpointer = viterbi[:,-1].argmax()\n",
    "\n",
    "stack = []\n",
    "\n",
    "for  t in reversed(range(0, len(sentenceList))):\n",
    "    key = list(tags.keys())[list(tags.values()).index(bestpointer)]\n",
    "    \n",
    "    stack.append(f'{sentenceList[t]}: {key}')\n",
    "    \n",
    "    bestpointer = int(backpointer[bestpointer][t])\n"
   ]
  },
  {
   "cell_type": "code",
   "execution_count": 279,
   "id": "b0c21fbe",
   "metadata": {},
   "outputs": [
    {
     "name": "stdout",
     "output_type": "stream",
     "text": [
      "Estudar: _V\n",
      "linguagem: _N\n",
      "é: _V\n",
      "muito: _ADV\n",
      "interessante: _ADJ\n"
     ]
    }
   ],
   "source": [
    "while(len(stack) > 0):\n",
    "    print(stack.pop())"
   ]
  }
 ],
 "metadata": {
  "kernelspec": {
   "display_name": "Python 3",
   "language": "python",
   "name": "python3"
  },
  "language_info": {
   "codemirror_mode": {
    "name": "ipython",
    "version": 3
   },
   "file_extension": ".py",
   "mimetype": "text/x-python",
   "name": "python",
   "nbconvert_exporter": "python",
   "pygments_lexer": "ipython3",
   "version": "3.9.3"
  }
 },
 "nbformat": 4,
 "nbformat_minor": 5
}
